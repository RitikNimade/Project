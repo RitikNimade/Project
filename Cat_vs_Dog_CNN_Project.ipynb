{
  "nbformat": 4,
  "nbformat_minor": 0,
  "metadata": {
    "colab": {
      "provenance": [],
      "gpuType": "T4",
      "authorship_tag": "ABX9TyOX7BbO4SjEyxqjUb0jOXVX",
      "include_colab_link": true
    },
    "kernelspec": {
      "name": "python3",
      "display_name": "Python 3"
    },
    "language_info": {
      "name": "python"
    },
    "accelerator": "GPU"
  },
  "cells": [
    {
      "cell_type": "markdown",
      "metadata": {
        "id": "view-in-github",
        "colab_type": "text"
      },
      "source": [
        "<a href=\"https://colab.research.google.com/github/RitikNimade/Project/blob/main/Cat_vs_Dog_CNN_Project.ipynb\" target=\"_parent\"><img src=\"https://colab.research.google.com/assets/colab-badge.svg\" alt=\"Open In Colab\"/></a>"
      ]
    },
    {
      "cell_type": "code",
      "source": [
        "!mkdir -p ~/.kaggle\n",
        "!cp kaggle.json ~/.kaggle/"
      ],
      "metadata": {
        "id": "1nsp9k-v9zz7"
      },
      "execution_count": null,
      "outputs": []
    },
    {
      "cell_type": "code",
      "execution_count": null,
      "metadata": {
        "colab": {
          "base_uri": "https://localhost:8080/"
        },
        "id": "quVnnmzY84Ru",
        "outputId": "3ca52b39-26a8-47d4-dd3c-d8163724d7d4"
      },
      "outputs": [
        {
          "output_type": "stream",
          "name": "stdout",
          "text": [
            "Warning: Your Kaggle API key is readable by other users on this system! To fix this, you can run 'chmod 600 /root/.kaggle/kaggle.json'\n",
            "Dataset URL: https://www.kaggle.com/datasets/salader/dogs-vs-cats\n",
            "License(s): unknown\n",
            "Downloading dogs-vs-cats.zip to /content\n",
            " 98% 1.04G/1.06G [00:10<00:00, 214MB/s]\n",
            "100% 1.06G/1.06G [00:10<00:00, 111MB/s]\n"
          ]
        }
      ],
      "source": [
        "!kaggle datasets download -d salader/dogs-vs-cats"
      ]
    },
    {
      "cell_type": "code",
      "source": [
        "import zipfile\n",
        "zip_ref = zipfile.ZipFile('/content/dogs-vs-cats.zip', 'r')\n",
        "zip_ref.extractall('/content')\n",
        "zip_ref.close()"
      ],
      "metadata": {
        "id": "FvrRsoyG-DW0"
      },
      "execution_count": null,
      "outputs": []
    },
    {
      "cell_type": "code",
      "source": [
        "import tensorflow\n",
        "from keras.layers import Dense, Conv2D, MaxPooling2D,Dropout, BatchNormalization, Flatten\n",
        "from keras.models import Sequential"
      ],
      "metadata": {
        "id": "vbxurVcs--B2"
      },
      "execution_count": null,
      "outputs": []
    },
    {
      "cell_type": "code",
      "source": [
        "cnn = Sequential()"
      ],
      "metadata": {
        "id": "etiQcGzTAFLP"
      },
      "execution_count": null,
      "outputs": []
    },
    {
      "cell_type": "markdown",
      "source": [],
      "metadata": {
        "id": "bOyD0JmcI_AQ"
      }
    },
    {
      "cell_type": "code",
      "source": [],
      "metadata": {
        "id": "hQkxHQMCM4Dk"
      },
      "execution_count": null,
      "outputs": []
    },
    {
      "cell_type": "markdown",
      "source": [],
      "metadata": {
        "id": "Yv4eNK8NM4ei"
      }
    },
    {
      "cell_type": "code",
      "source": [
        "cnn.add(Conv2D(32, kernel_size=(3, 3), activation='relu', padding = 'valid', input_shape=(32, 32, 3)))\n",
        "cnn.add(BatchNormalization())\n",
        "cnn.add(MaxPooling2D(2,2))\n",
        "cnn.add(Conv2D(64, kernel_size=(3, 3), activation='relu',padding = 'valid'))\n",
        "cnn.add(BatchNormalization())\n",
        "cnn.add(MaxPooling2D(2,2))\n",
        "cnn.add(Conv2D(128, kernel_size=(3, 3), activation='relu', padding = 'valid'))\n",
        "cnn.add(BatchNormalization())\n",
        "cnn.add(MaxPooling2D(2,2))\n",
        "cnn.add(Flatten())"
      ],
      "metadata": {
        "id": "V3ges7G9ApsP"
      },
      "execution_count": null,
      "outputs": []
    },
    {
      "cell_type": "code",
      "source": [
        "cnn.add(Dense(128, activation='relu'))\n",
        "cnn.add(Dropout(0.1))\n",
        "cnn.add(Dense(64, activation='relu'))\n",
        "cnn.add(Dropout(0.1))\n",
        "cnn.add(Dense(32, activation='relu'))\n",
        "cnn.add(Dropout(0.1))\n",
        "cnn.add(Dense(16, activation='relu'))\n",
        "cnn.add(Dropout(0.1))\n",
        "cnn.add(Dense(1, activation='sigmoid'))"
      ],
      "metadata": {
        "id": "PyeyVQ3YBNTx"
      },
      "execution_count": null,
      "outputs": []
    },
    {
      "cell_type": "code",
      "source": [
        "cnn.compile(optimizer='Adam', loss='binary_crossentropy', metrics=['accuracy'])"
      ],
      "metadata": {
        "id": "f-d_4qQSBmD9"
      },
      "execution_count": null,
      "outputs": []
    },
    {
      "cell_type": "code",
      "source": [
        "from keras.preprocessing.image import ImageDataGenerator"
      ],
      "metadata": {
        "id": "y9kT_RPoBsJ3"
      },
      "execution_count": null,
      "outputs": []
    },
    {
      "cell_type": "code",
      "source": [
        "train_datagen = ImageDataGenerator(\n",
        "        rescale=1./255,\n",
        "        shear_range=0.2,\n",
        "        zoom_range=0.2,\n",
        "        horizontal_flip=True)\n",
        "\n",
        "\n",
        "test_datagen = ImageDataGenerator(rescale=1./255)\n",
        "\n",
        "# this is a generator that will read pictures found in\n",
        "# subfolers of 'data/train', and indefinitely generate\n",
        "# batches of augmented image data\n",
        "train_generator = train_datagen.flow_from_directory(\n",
        "        '/content/train',  # this is the target directory\n",
        "        target_size=(32, 32),  # all images will be resized to 150x150\n",
        "        batch_size=32,\n",
        "        class_mode='binary')  # since we use binary_crossentropy loss, we need binary labels\n",
        "\n",
        "# this is a similar generator, for validation data\n",
        "test_generator = test_datagen.flow_from_directory(\n",
        "       '/content/test',\n",
        "        target_size=(32, 32),\n",
        "        batch_size=32,\n",
        "        class_mode='binary')"
      ],
      "metadata": {
        "colab": {
          "base_uri": "https://localhost:8080/"
        },
        "id": "qc3C-IuCCd_B",
        "outputId": "58773771-09f1-4010-b0ba-2a5d8692ca05"
      },
      "execution_count": null,
      "outputs": [
        {
          "output_type": "stream",
          "name": "stdout",
          "text": [
            "Found 20000 images belonging to 2 classes.\n",
            "Found 5000 images belonging to 2 classes.\n"
          ]
        }
      ]
    },
    {
      "cell_type": "code",
      "source": [
        "from google.colab import drive\n",
        "drive.mount('/content/drive')"
      ],
      "metadata": {
        "id": "Wi9N_b8vXjXZ"
      },
      "execution_count": null,
      "outputs": []
    },
    {
      "cell_type": "code",
      "source": [
        "cnn.fit_generator(\n",
        "        train_generator,\n",
        "        steps_per_epoch=400,\n",
        "        epochs=50,\n",
        "        validation_data=test_generator,\n",
        "        validation_steps=100 )"
      ],
      "metadata": {
        "colab": {
          "base_uri": "https://localhost:8080/"
        },
        "id": "mCVaZKx8DLwH",
        "outputId": "60c65d40-ac73-4859-b1fc-44fcc74f0784"
      },
      "execution_count": null,
      "outputs": [
        {
          "metadata": {
            "tags": null
          },
          "name": "stderr",
          "output_type": "stream",
          "text": [
            "<ipython-input-9-04545f26f188>:1: UserWarning: `Model.fit_generator` is deprecated and will be removed in a future version. Please use `Model.fit`, which supports generators.\n",
            "  cnn.fit_generator(\n"
          ]
        },
        {
          "output_type": "stream",
          "name": "stdout",
          "text": [
            "Epoch 1/50\n",
            "400/400 [==============================] - 38s 75ms/step - loss: 0.6757 - accuracy: 0.5870 - val_loss: 0.6445 - val_accuracy: 0.6269\n",
            "Epoch 2/50\n",
            "400/400 [==============================] - 30s 76ms/step - loss: 0.6091 - accuracy: 0.6652 - val_loss: 0.6357 - val_accuracy: 0.6581\n",
            "Epoch 3/50\n",
            "400/400 [==============================] - 29s 73ms/step - loss: 0.5667 - accuracy: 0.7094 - val_loss: 0.8013 - val_accuracy: 0.5434\n",
            "Epoch 4/50\n",
            "400/400 [==============================] - 28s 69ms/step - loss: 0.5472 - accuracy: 0.7262 - val_loss: 0.5163 - val_accuracy: 0.7434\n",
            "Epoch 5/50\n",
            "400/400 [==============================] - 27s 68ms/step - loss: 0.5105 - accuracy: 0.7484 - val_loss: 0.4730 - val_accuracy: 0.7741\n",
            "Epoch 6/50\n",
            "400/400 [==============================] - 29s 72ms/step - loss: 0.4922 - accuracy: 0.7609 - val_loss: 0.5700 - val_accuracy: 0.7022\n",
            "Epoch 7/50\n",
            "400/400 [==============================] - 27s 69ms/step - loss: 0.4813 - accuracy: 0.7700 - val_loss: 0.6750 - val_accuracy: 0.6319\n",
            "Epoch 8/50\n",
            "400/400 [==============================] - 28s 70ms/step - loss: 0.4612 - accuracy: 0.7830 - val_loss: 0.7402 - val_accuracy: 0.6559\n",
            "Epoch 9/50\n",
            "400/400 [==============================] - 28s 69ms/step - loss: 0.4488 - accuracy: 0.7918 - val_loss: 0.5985 - val_accuracy: 0.6469\n",
            "Epoch 10/50\n",
            "400/400 [==============================] - 28s 71ms/step - loss: 0.4381 - accuracy: 0.7999 - val_loss: 0.4467 - val_accuracy: 0.7872\n",
            "Epoch 11/50\n",
            "400/400 [==============================] - 27s 68ms/step - loss: 0.4369 - accuracy: 0.8041 - val_loss: 0.4316 - val_accuracy: 0.7962\n",
            "Epoch 12/50\n",
            "400/400 [==============================] - 28s 71ms/step - loss: 0.4117 - accuracy: 0.8117 - val_loss: 0.4725 - val_accuracy: 0.7528\n",
            "Epoch 13/50\n",
            "400/400 [==============================] - 28s 69ms/step - loss: 0.4115 - accuracy: 0.8137 - val_loss: 0.4719 - val_accuracy: 0.7528\n",
            "Epoch 14/50\n",
            "400/400 [==============================] - 27s 68ms/step - loss: 0.4014 - accuracy: 0.8170 - val_loss: 0.4333 - val_accuracy: 0.7934\n",
            "Epoch 15/50\n",
            "400/400 [==============================] - 27s 68ms/step - loss: 0.3909 - accuracy: 0.8226 - val_loss: 0.5234 - val_accuracy: 0.7381\n",
            "Epoch 16/50\n",
            "400/400 [==============================] - 28s 71ms/step - loss: 0.3801 - accuracy: 0.8313 - val_loss: 0.4464 - val_accuracy: 0.7994\n",
            "Epoch 17/50\n",
            "400/400 [==============================] - 27s 68ms/step - loss: 0.3777 - accuracy: 0.8324 - val_loss: 0.4531 - val_accuracy: 0.7756\n",
            "Epoch 18/50\n",
            "400/400 [==============================] - 28s 69ms/step - loss: 0.3667 - accuracy: 0.8359 - val_loss: 0.4128 - val_accuracy: 0.8134\n",
            "Epoch 19/50\n",
            "400/400 [==============================] - 27s 68ms/step - loss: 0.3586 - accuracy: 0.8384 - val_loss: 0.5163 - val_accuracy: 0.7553\n",
            "Epoch 20/50\n",
            "400/400 [==============================] - 27s 68ms/step - loss: 0.3562 - accuracy: 0.8438 - val_loss: 0.4470 - val_accuracy: 0.7794\n",
            "Epoch 21/50\n",
            "400/400 [==============================] - 29s 72ms/step - loss: 0.3493 - accuracy: 0.8412 - val_loss: 0.3794 - val_accuracy: 0.8300\n",
            "Epoch 22/50\n",
            "400/400 [==============================] - 29s 72ms/step - loss: 0.3494 - accuracy: 0.8440 - val_loss: 0.4117 - val_accuracy: 0.8091\n",
            "Epoch 23/50\n",
            "400/400 [==============================] - 28s 71ms/step - loss: 0.3364 - accuracy: 0.8543 - val_loss: 0.4381 - val_accuracy: 0.7972\n",
            "Epoch 24/50\n",
            "400/400 [==============================] - 27s 68ms/step - loss: 0.3370 - accuracy: 0.8491 - val_loss: 0.4338 - val_accuracy: 0.7966\n",
            "Epoch 25/50\n",
            "400/400 [==============================] - 28s 69ms/step - loss: 0.3284 - accuracy: 0.8591 - val_loss: 0.4259 - val_accuracy: 0.8072\n",
            "Epoch 26/50\n",
            "400/400 [==============================] - 27s 69ms/step - loss: 0.3273 - accuracy: 0.8558 - val_loss: 0.4245 - val_accuracy: 0.7987\n",
            "Epoch 27/50\n",
            "400/400 [==============================] - 28s 69ms/step - loss: 0.3122 - accuracy: 0.8648 - val_loss: 0.4215 - val_accuracy: 0.8072\n",
            "Epoch 28/50\n",
            "400/400 [==============================] - 30s 74ms/step - loss: 0.3158 - accuracy: 0.8630 - val_loss: 0.5820 - val_accuracy: 0.7369\n",
            "Epoch 29/50\n",
            "400/400 [==============================] - 29s 73ms/step - loss: 0.3139 - accuracy: 0.8681 - val_loss: 0.3757 - val_accuracy: 0.8313\n",
            "Epoch 30/50\n",
            "400/400 [==============================] - 28s 69ms/step - loss: 0.2914 - accuracy: 0.8752 - val_loss: 0.3811 - val_accuracy: 0.8338\n",
            "Epoch 31/50\n",
            "400/400 [==============================] - 29s 72ms/step - loss: 0.3046 - accuracy: 0.8720 - val_loss: 0.3732 - val_accuracy: 0.8319\n",
            "Epoch 32/50\n",
            "400/400 [==============================] - 28s 69ms/step - loss: 0.2948 - accuracy: 0.8720 - val_loss: 0.4288 - val_accuracy: 0.8213\n",
            "Epoch 33/50\n",
            "400/400 [==============================] - 28s 71ms/step - loss: 0.2927 - accuracy: 0.8742 - val_loss: 0.3921 - val_accuracy: 0.8206\n",
            "Epoch 34/50\n",
            "400/400 [==============================] - 29s 72ms/step - loss: 0.2892 - accuracy: 0.8765 - val_loss: 0.3902 - val_accuracy: 0.8278\n",
            "Epoch 35/50\n",
            "400/400 [==============================] - 28s 69ms/step - loss: 0.2889 - accuracy: 0.8786 - val_loss: 0.4225 - val_accuracy: 0.8188\n",
            "Epoch 36/50\n",
            "400/400 [==============================] - 28s 70ms/step - loss: 0.2758 - accuracy: 0.8810 - val_loss: 0.4115 - val_accuracy: 0.8169\n",
            "Epoch 37/50\n",
            "400/400 [==============================] - 29s 73ms/step - loss: 0.2701 - accuracy: 0.8870 - val_loss: 0.4907 - val_accuracy: 0.7969\n",
            "Epoch 38/50\n",
            "400/400 [==============================] - 27s 69ms/step - loss: 0.2655 - accuracy: 0.8871 - val_loss: 0.3849 - val_accuracy: 0.8359\n",
            "Epoch 39/50\n",
            "400/400 [==============================] - 29s 73ms/step - loss: 0.2648 - accuracy: 0.8868 - val_loss: 0.3869 - val_accuracy: 0.8388\n",
            "Epoch 40/50\n",
            "400/400 [==============================] - 30s 74ms/step - loss: 0.2603 - accuracy: 0.8885 - val_loss: 0.3879 - val_accuracy: 0.8197\n",
            "Epoch 41/50\n",
            "400/400 [==============================] - 27s 67ms/step - loss: 0.2598 - accuracy: 0.8916 - val_loss: 0.4357 - val_accuracy: 0.8191\n",
            "Epoch 42/50\n",
            "400/400 [==============================] - 27s 68ms/step - loss: 0.2561 - accuracy: 0.8922 - val_loss: 0.4071 - val_accuracy: 0.8334\n",
            "Epoch 43/50\n",
            "400/400 [==============================] - 28s 69ms/step - loss: 0.2557 - accuracy: 0.8909 - val_loss: 0.4496 - val_accuracy: 0.8234\n",
            "Epoch 44/50\n",
            "400/400 [==============================] - 29s 73ms/step - loss: 0.2475 - accuracy: 0.8967 - val_loss: 0.4158 - val_accuracy: 0.8281\n",
            "Epoch 45/50\n",
            "400/400 [==============================] - 29s 72ms/step - loss: 0.2465 - accuracy: 0.8970 - val_loss: 0.4000 - val_accuracy: 0.8234\n",
            "Epoch 46/50\n",
            "400/400 [==============================] - 28s 69ms/step - loss: 0.2409 - accuracy: 0.8998 - val_loss: 0.4064 - val_accuracy: 0.8369\n",
            "Epoch 47/50\n",
            "400/400 [==============================] - 28s 71ms/step - loss: 0.2452 - accuracy: 0.8948 - val_loss: 0.3684 - val_accuracy: 0.8369\n",
            "Epoch 48/50\n",
            "400/400 [==============================] - 28s 71ms/step - loss: 0.2319 - accuracy: 0.9030 - val_loss: 0.4988 - val_accuracy: 0.7925\n",
            "Epoch 49/50\n",
            "400/400 [==============================] - 29s 73ms/step - loss: 0.2332 - accuracy: 0.9035 - val_loss: 0.4180 - val_accuracy: 0.8166\n",
            "Epoch 50/50\n",
            "400/400 [==============================] - 30s 74ms/step - loss: 0.2327 - accuracy: 0.9039 - val_loss: 0.4059 - val_accuracy: 0.8394\n"
          ]
        },
        {
          "output_type": "execute_result",
          "data": {
            "text/plain": [
              "<keras.src.callbacks.History at 0x7e1f4c31ff70>"
            ]
          },
          "metadata": {},
          "execution_count": 9
        }
      ]
    },
    {
      "cell_type": "code",
      "source": [],
      "metadata": {
        "id": "Qxy4Ia4gDzn9"
      },
      "execution_count": null,
      "outputs": []
    },
    {
      "cell_type": "code",
      "source": [
        "from keras.preprocessing import image"
      ],
      "metadata": {
        "id": "maP52borFcMM"
      },
      "execution_count": null,
      "outputs": []
    },
    {
      "cell_type": "code",
      "source": [],
      "metadata": {
        "id": "fwdmLmgPV9CU"
      },
      "execution_count": null,
      "outputs": []
    },
    {
      "cell_type": "code",
      "source": [
        "img = image.load_img('/content/train/cats/cat.10059.jpg', target_size=(32, 32))"
      ],
      "metadata": {
        "id": "GogYmHXoFlHM"
      },
      "execution_count": null,
      "outputs": []
    },
    {
      "cell_type": "code",
      "source": [
        "img = image.img_to_array(img)"
      ],
      "metadata": {
        "id": "ZajUltj7Fugw"
      },
      "execution_count": null,
      "outputs": []
    },
    {
      "cell_type": "code",
      "source": [
        "import numpy as np"
      ],
      "metadata": {
        "id": "UGWOBb5GGsyg"
      },
      "execution_count": null,
      "outputs": []
    },
    {
      "cell_type": "code",
      "source": [
        "img = np.expand_dims(img,axis=0)"
      ],
      "metadata": {
        "id": "xfjZiMXiGzWt"
      },
      "execution_count": null,
      "outputs": []
    },
    {
      "cell_type": "code",
      "source": [
        "pred = cnn.predict(img)"
      ],
      "metadata": {
        "colab": {
          "base_uri": "https://localhost:8080/"
        },
        "id": "ZEBz73AdHCLB",
        "outputId": "bde8adb4-826b-4b04-cc55-c25dee497105"
      },
      "execution_count": null,
      "outputs": [
        {
          "output_type": "stream",
          "name": "stdout",
          "text": [
            "1/1 [==============================] - 0s 29ms/step\n"
          ]
        }
      ]
    },
    {
      "cell_type": "code",
      "source": [
        "if pred <0.5:\n",
        "  print('cat')\n",
        "else:\n",
        "  print(\"dog\")"
      ],
      "metadata": {
        "colab": {
          "base_uri": "https://localhost:8080/"
        },
        "id": "4hgOSML8HFkl",
        "outputId": "44601d0b-0f8b-4d60-971b-ca3244318b63"
      },
      "execution_count": null,
      "outputs": [
        {
          "output_type": "stream",
          "name": "stdout",
          "text": [
            "cat\n"
          ]
        }
      ]
    }
  ]
}